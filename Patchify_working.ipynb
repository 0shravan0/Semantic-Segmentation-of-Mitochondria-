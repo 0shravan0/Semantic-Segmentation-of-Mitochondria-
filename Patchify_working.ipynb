{
 "cells": [
  {
   "cell_type": "code",
   "execution_count": 1,
   "id": "19a62766",
   "metadata": {},
   "outputs": [],
   "source": [
    "from  patchify import patchify\n",
    "import matplotlib.pyplot as plt\n",
    "import numpy as np\n",
    "import tifffile as tif"
   ]
  },
  {
   "cell_type": "code",
   "execution_count": 2,
   "id": "39218a22",
   "metadata": {},
   "outputs": [],
   "source": [
    "large_image_stack = tif.imread('training.tif')\n",
    "large_mask_stack = tif.imread('training_groundtruth.tif')"
   ]
  },
  {
   "cell_type": "code",
   "execution_count": 3,
   "id": "9a6011ba",
   "metadata": {},
   "outputs": [
    {
     "data": {
      "text/plain": [
       "(165, 768, 1024)"
      ]
     },
     "execution_count": 3,
     "metadata": {},
     "output_type": "execute_result"
    }
   ],
   "source": [
    "large_image_stack.shape"
   ]
  },
  {
   "cell_type": "code",
   "execution_count": 4,
   "id": "bd81d2bf",
   "metadata": {},
   "outputs": [
    {
     "data": {
      "text/plain": [
       "(165, 768, 1024)"
      ]
     },
     "execution_count": 4,
     "metadata": {},
     "output_type": "execute_result"
    }
   ],
   "source": [
    "large_mask_stack.shape"
   ]
  },
  {
   "cell_type": "code",
   "execution_count": 5,
   "id": "add05ba3",
   "metadata": {},
   "outputs": [],
   "source": [
    "for img in range(large_image_stack.shape[0]):\n",
    "    large_img = large_image_stack[img]\n",
    "    \n",
    "    patches_img = patchify(large_img, (256,256), step = 256)\n",
    "    \n",
    "#     patches_img.shape\n",
    "    \n",
    "    \n",
    "    for i in range(patches_img.shape[0]):\n",
    "        for j in range(patches_img.shape[1]):\n",
    "            single_patch_img = patches_img[i,j,:,:]\n",
    "            tif.imwrite('patches/images/'+ 'image_' + str(img) + '_' + str(i)+str(j)+ '.tiff',single_patch_img )\n",
    "            "
   ]
  },
  {
   "cell_type": "code",
   "execution_count": 8,
   "id": "1dae0f4b",
   "metadata": {},
   "outputs": [],
   "source": [
    "for msk in range(large_mask_stack.shape[0]):\n",
    "    large_msk = large_mask_stack[msk]\n",
    "    \n",
    "    patches_msk = patchify(large_msk, (256,256), step = 256)\n",
    "    \n",
    "    \n",
    "    \n",
    "    for i in range(patches_msk.shape[0]):\n",
    "        for j in range(patches_msk.shape[1]):\n",
    "            single_patch_mask = patches_msk[i,j,:,:]\n",
    "            tif.imwrite('patches/mask/'+ 'mask_' + str(msk) + '_' + str(i)+str(j)+ '.tiff',single_patch_mask )\n",
    "            single_patch_mask = single_patch_mask/255"
   ]
  },
  {
   "cell_type": "code",
   "execution_count": 13,
   "id": "21ed7392",
   "metadata": {},
   "outputs": [
    {
     "data": {
      "text/plain": [
       "(768, 1024)"
      ]
     },
     "execution_count": 13,
     "metadata": {},
     "output_type": "execute_result"
    }
   ],
   "source": [
    "large_img.shape"
   ]
  },
  {
   "cell_type": "code",
   "execution_count": 10,
   "id": "e912c2ec",
   "metadata": {},
   "outputs": [
    {
     "data": {
      "text/plain": [
       "(3, 4, 256, 256)"
      ]
     },
     "execution_count": 10,
     "metadata": {},
     "output_type": "execute_result"
    }
   ],
   "source": [
    "patches_img.shape"
   ]
  },
  {
   "cell_type": "code",
   "execution_count": 9,
   "id": "e8425b11",
   "metadata": {},
   "outputs": [
    {
     "data": {
      "text/plain": [
       "(3, 4, 256, 256)"
      ]
     },
     "execution_count": 9,
     "metadata": {},
     "output_type": "execute_result"
    }
   ],
   "source": [
    "patches_msk.shape"
   ]
  },
  {
   "cell_type": "code",
   "execution_count": 11,
   "id": "0923b64b",
   "metadata": {},
   "outputs": [
    {
     "data": {
      "text/plain": [
       "(256, 256)"
      ]
     },
     "execution_count": 11,
     "metadata": {},
     "output_type": "execute_result"
    }
   ],
   "source": [
    "single_patch_img.shape"
   ]
  },
  {
   "cell_type": "code",
   "execution_count": 12,
   "id": "fc085e57",
   "metadata": {},
   "outputs": [
    {
     "data": {
      "text/plain": [
       "(256, 256)"
      ]
     },
     "execution_count": 12,
     "metadata": {},
     "output_type": "execute_result"
    }
   ],
   "source": [
    "single_patch_mask.shape"
   ]
  },
  {
   "cell_type": "code",
   "execution_count": null,
   "id": "0cd7b47b",
   "metadata": {},
   "outputs": [],
   "source": []
  }
 ],
 "metadata": {
  "kernelspec": {
   "display_name": "tf-gpu",
   "language": "python",
   "name": "tf-gpu"
  },
  "language_info": {
   "codemirror_mode": {
    "name": "ipython",
    "version": 3
   },
   "file_extension": ".py",
   "mimetype": "text/x-python",
   "name": "python",
   "nbconvert_exporter": "python",
   "pygments_lexer": "ipython3",
   "version": "3.9.7"
  }
 },
 "nbformat": 4,
 "nbformat_minor": 5
}
